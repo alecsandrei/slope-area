{
 "cells": [
  {
   "cell_type": "code",
   "execution_count": 1,
   "id": "d5a8dd9f",
   "metadata": {},
   "outputs": [
    {
     "name": "stdout",
     "output_type": "stream",
     "text": [
      "02:28:14 DEBUG slopeArea.slope_area.config          is_notebook(): Code is running in notebook\n"
     ]
    }
   ],
   "source": [
    "from __future__ import annotations\n",
    "\n",
    "from pathlib import Path\n",
    "\n",
    "import geopandas as gpd\n",
    "\n",
    "from slope_area.builder import (\n",
    "    BuilderConfig,\n",
    "    DEMSource,\n",
    "    OutletPlotBuilder,\n",
    "    ResolutionPlotBuilder,\n",
    "    Trial,\n",
    "    TrialConfig,\n",
    "    StaticVRT,\n",
    ")\n",
    "from slope_area.paths import PROJ_ROOT\n",
    "from slope_area.features import DEMTilesBuilder, GeneralizedDEM, Outlets, VRT, DEMTiles\n",
    "from slope_area.geomorphometry import HydrologicAnalysisConfig\n",
    "from slope_area.logger import create_logger\n",
    "\n",
    "logger = create_logger(__name__)"
   ]
  },
  {
   "cell_type": "code",
   "execution_count": 2,
   "id": "e79601c4",
   "metadata": {},
   "outputs": [
    {
     "name": "stdout",
     "output_type": "stream",
     "text": [
      "02:28:17 INFO slopeArea.slope_area.features.DEMTilesBuilder                build(): Found DEM tiles at C:\\Users\\alex\\Desktop\\slope-area\\data\\raw\\dem_tiles.fgb\n",
      "02:28:17 INFO slopeArea.__main__             <module>(): Reading outlets at C:\\Users\\alex\\Desktop\\slope-area\\data\\raw\\outlets.shp\n"
     ]
    }
   ],
   "source": [
    "# ---- Paths ----\n",
    "dem_dir = Path(r'Z:\\\\')\n",
    "dem_tiles = PROJ_ROOT / 'data' / 'raw' / 'dem_tiles.fgb'\n",
    "generalized_dem = PROJ_ROOT / 'data' / 'raw' / 'dem_30m.tif'\n",
    "generalized_dem_out = (\n",
    "    PROJ_ROOT / 'data' / 'processed' / generalized_dem.stem\n",
    ")\n",
    "outlets = PROJ_ROOT / 'data' / 'raw' / 'outlets.shp'\n",
    "dem_dir_epsg = 3844\n",
    "out_dir = PROJ_ROOT / 'data' / 'processed'\n",
    "\n",
    "# ---- Run configs ----\n",
    "plot_kind = 'resolution'\n",
    "outlet_name = 'gully 2'\n",
    "resolutions = [(res, res) for res in range(5, 15)]\n",
    "\n",
    "# ---- Init objects ----\n",
    "tiles = DEMTilesBuilder(\n",
    "    dem_dir, dem_dir_epsg=dem_dir_epsg, tiles=dem_tiles\n",
    ").build()\n",
    "generalized_dem = GeneralizedDEM(\n",
    "    path=generalized_dem, out_dir=generalized_dem_out\n",
    ")\n",
    "dem_source = DEMSource(dem_dir, tiles, generalized_dem)\n",
    "hydrologic_analysis_config = HydrologicAnalysisConfig(\n",
    "    streams_flow_accumulation_threshold=1000, outlet_snap_distance=100\n",
    ")\n",
    "\n",
    "logger.info('Reading outlets at %s' % outlets)\n",
    "gdf = gpd.read_file(outlets).sort_values(by='name')\n",
    "gdf = gdf[gdf['is_gully'] == 1]\n",
    "outlets = Outlets.from_gdf(gdf, name_field='name')"
   ]
  },
  {
   "cell_type": "code",
   "execution_count": 3,
   "id": "578e3162",
   "metadata": {},
   "outputs": [
    {
     "name": "stdout",
     "output_type": "stream",
     "text": [
      "02:28:17 INFO slopeArea.slope_area.features.DEMTiles          get_wbw_env(): Initialized Whitebox Environment\n",
      "02:28:17 INFO slopeArea.slope_area.features.DEMTiles _from_outlet_watershed(): Infering DEM tiles based on the outlet\n",
      "02:28:17 INFO slopeArea.slope_area.config          get_wbw_env(): Initialized Whitebox Environment\n",
      "02:28:17 INFO slopeArea.slope_area.features      get_flow_output(): Found rasters dem_30m_dem_preproc.tif, dem_30m_d8_pointer.tif, dem_30m_flow_accumulation.tif\n",
      "02:28:43 INFO slopeArea.slope_area.features.DEMTiles       write_whitebox(): Saving Vector object to C:\\Users\\alex\\Desktop\\slope-area\\data\\processed\\gully 2\\watershed.shp\n",
      "02:28:45 INFO slopeArea.slope_area.features.DEMTiles         from_polygon(): Extracted 6 tiles based on the polygon <POLYGON ((650962 642080, 651052 642080, 651052 642050, 651172 642050, 65117...>\n",
      "02:28:45 INFO slopeArea.slope_area.features              wrapper(): DEMTiles.from_outlet executed in 27.811711 seconds\n",
      "02:28:45 INFO slopeArea.slope_area.features       from_dem_tiles(): Building VRT from 6 rasters\n"
     ]
    },
    {
     "data": {
      "application/vnd.jupyter.widget-view+json": {
       "model_id": "7817949cb9ba4a30ab0308795aa025bc",
       "version_major": 2,
       "version_minor": 0
      },
      "text/plain": [
       "Output()"
      ]
     },
     "metadata": {},
     "output_type": "display_data"
    },
    {
     "data": {
      "text/html": [
       "<pre style=\"white-space:pre;overflow-x:auto;line-height:normal;font-family:Menlo,'DejaVu Sans Mono',consolas,'Courier New',monospace\"></pre>\n"
      ],
      "text/plain": []
     },
     "metadata": {},
     "output_type": "display_data"
    },
    {
     "name": "stdout",
     "output_type": "stream",
     "text": [
      "02:30:12 INFO slopeArea.slope_area.plot      slope_area_grid(): Creating slope area plot with config SlopeAreaPlotConfig(col_wrap=-1, height=5, aspect=1)\n",
      "02:30:12 INFO slopeArea.slope_area.plot         get_col_wrap(): Infered 5 cols for the plot\n",
      "02:30:23 INFO slopeArea.slope_area.plot      slope_area_grid(): Saved slope area plot at C:\\Users\\alex\\Desktop\\slope-area\\data\\processed\\gully 2\\slope_area.png\n"
     ]
    }
   ],
   "source": [
    "builder_config = BuilderConfig(\n",
    "    hydrologic_analysis_config, out_dir / outlet_name, max_workers=3\n",
    ")\n",
    "outlet = [outlet for outlet in outlets if outlet.name == outlet_name]\n",
    "ResolutionPlotBuilder(\n",
    "    builder_config, dem_source, outlet[0], resolutions\n",
    ").build()"
   ]
  },
  {
   "cell_type": "code",
   "execution_count": 4,
   "id": "8b128a8b",
   "metadata": {},
   "outputs": [
    {
     "data": {
      "application/vnd.jupyter.widget-view+json": {
       "model_id": "5c9a3a94e6b34c488d46a139c3212192",
       "version_major": 2,
       "version_minor": 0
      },
      "text/plain": [
       "Output()"
      ]
     },
     "metadata": {},
     "output_type": "display_data"
    },
    {
     "data": {
      "text/html": [
       "<pre style=\"white-space:pre;overflow-x:auto;line-height:normal;font-family:Menlo,'DejaVu Sans Mono',consolas,'Courier New',monospace\"></pre>\n"
      ],
      "text/plain": []
     },
     "metadata": {},
     "output_type": "display_data"
    },
    {
     "name": "stdout",
     "output_type": "stream",
     "text": [
      "02:42:33 INFO slopeArea.slope_area.plot      slope_area_grid(): Creating slope area plot with config SlopeAreaPlotConfig(col_wrap=-1, height=5, aspect=1)\n",
      "02:42:33 INFO slopeArea.slope_area.plot         get_col_wrap(): Infered 4 cols for the plot\n",
      "02:43:06 INFO slopeArea.slope_area.plot      slope_area_grid(): Saved slope area plot at C:\\Users\\alex\\Desktop\\slope-area\\data\\processed\\slope_area.png\n"
     ]
    }
   ],
   "source": [
    "builder_config = BuilderConfig(\n",
    "    hydrologic_analysis_config, out_dir, max_workers=2\n",
    ")\n",
    "OutletPlotBuilder(\n",
    "    builder_config, dem_source, outlets=outlets, resolution=(20, 20)\n",
    ").build()"
   ]
  },
  {
   "cell_type": "code",
   "execution_count": 5,
   "id": "4bf0fc53",
   "metadata": {},
   "outputs": [
    {
     "name": "stdout",
     "output_type": "stream",
     "text": [
      "02:43:06 INFO slopeArea.slope_area.features.DEMTiles _from_outlet_watershed(): Infering DEM tiles based on the outlet\n",
      "02:43:10 INFO slopeArea.slope_area.features.DEMTiles       write_whitebox(): Saving Vector object to C:\\Users\\alex\\Desktop\\slope-area\\data\\processed\\gully 1\\watershed.shp\n",
      "02:43:12 INFO slopeArea.slope_area.features.DEMTiles         from_polygon(): Extracted 4 tiles based on the polygon <MULTIPOLYGON (((717832 495800, 717922 495800, 717922 495770, 717862 495770,...>\n",
      "02:43:12 INFO slopeArea.slope_area.features              wrapper(): DEMTiles.from_outlet executed in 6.737821 seconds\n",
      "02:43:12 INFO slopeArea.slope_area.features       from_dem_tiles(): Building VRT from 4 rasters\n",
      "02:43:14 INFO slopeArea.slope_area.builder.Trial              execute(): \n",
      "02:43:14 INFO slopeArea.slope_area.builder.Trial              execute(): Getting the DEM raster\n",
      "02:43:14 INFO slopeArea.slope_area.builder.Trial          get_wbw_env(): Initialized Whitebox Environment\n"
     ]
    },
    {
     "name": "stderr",
     "output_type": "stream",
     "text": [
      "02:43:14 WARNING slopeArea.slope_area.builder.Trial    get_resampled_dem(): CRS of dem.vrt is unprojected. Defaulting to the outlet CRS EPSG:3844\n"
     ]
    },
    {
     "name": "stdout",
     "output_type": "stream",
     "text": [
      "02:43:14 INFO slopeArea.slope_area.builder.Trial             resample(): Resampling Raster dem.vrt at resolution=(10, 10)\n",
      "02:43:16 INFO slopeArea.slope_area.builder.Trial       preprocess_dem(): Breaching depressions in the DEM\n",
      "02:43:16 INFO slopeArea.slope_area.builder.Trial             read_dem(): Reading DEM dem_resampled.tif\n",
      "02:43:16 DEBUG slopeArea.slope_area.geomorphometry              wrapper(): HydrologicAnalysis.read_dem executed in 0.005413 seconds\n",
      "02:43:16 INFO slopeArea.slope_area.builder.Trial       preprocess_dem(): Breaching single-cell pits\n",
      "02:43:16 DEBUG slopeArea.slope_area.geomorphometry              wrapper(): HydrologicAnalysis.preprocess_dem executed in 0.015931 seconds\n",
      "02:43:16 INFO slopeArea.slope_area.builder.Trial         compute_flow(): Computing the D8 pointer\n",
      "02:43:16 INFO slopeArea.slope_area.builder.Trial         compute_flow(): Computing the flow accumulation\n",
      "02:43:16 DEBUG slopeArea.slope_area.geomorphometry              wrapper(): HydrologicAnalysis.compute_flow executed in 0.028683 seconds\n",
      "02:43:16 INFO slopeArea.slope_area.builder.Trial    compute_watershed(): Snapping the outlet using a snap distance of 100.0\n",
      "02:43:16 INFO slopeArea.slope_area.builder.Trial    compute_watershed(): Computing the watershed\n",
      "02:43:16 DEBUG slopeArea.slope_area.geomorphometry              wrapper(): HydrologicAnalysis.compute_watershed executed in 0.032461 seconds\n",
      "02:43:16 INFO slopeArea.slope_area.builder.Trial       write_whitebox(): Saving Raster object to C:\\Users\\alex\\Desktop\\slope-area\\data\\processed\\gully 1\\dem_preproc.tif\n",
      "02:43:16 INFO slopeArea.slope_area.builder.Trial       write_whitebox(): Saving Raster object to C:\\Users\\alex\\Desktop\\slope-area\\data\\processed\\gully 1\\watershed.tif\n",
      "02:43:16 INFO slopeArea.slope_area.builder.Trial compute_slope_gradient(): Masking the preprocessed DEM with the watershed\n",
      "02:43:16 INFO slopeArea.slope_area.builder.Trial compute_slope_gradient(): Computing the slope gradient for the streams in the watershed\n",
      "02:43:16 INFO slopeArea.slope_area.builder.Trial         compute_flow(): Computing the D8 pointer\n",
      "02:43:16 INFO slopeArea.slope_area.builder.Trial         compute_flow(): Computing the flow accumulation\n",
      "02:43:16 DEBUG slopeArea.slope_area.geomorphometry              wrapper(): HydrologicAnalysis.compute_flow executed in 0.011393 seconds\n",
      "02:43:16 INFO slopeArea.slope_area.builder.Trial       write_whitebox(): Saving Raster object to C:\\Users\\alex\\Desktop\\slope-area\\data\\processed\\gully 1\\dem_preproc_mask.tif\n",
      "02:43:16 INFO slopeArea.slope_area.builder.Trial       write_whitebox(): Saving Raster object to C:\\Users\\alex\\Desktop\\slope-area\\data\\processed\\gully 1\\flowacc.tif\n",
      "02:43:16 INFO slopeArea.slope_area.builder.Trial       write_whitebox(): Saving Raster object to C:\\Users\\alex\\Desktop\\slope-area\\data\\processed\\gully 1\\slope_grad.tif\n",
      "02:43:16 DEBUG slopeArea.slope_area.geomorphometry              wrapper(): HydrologicAnalysis.compute_slope_gradient executed in 0.102173 seconds\n",
      "02:43:22 INFO slopeArea.slope_area.builder.Trial         get_saga_env(): Initialized SAGAGIS Environment\n",
      "02:43:22 INFO slopeArea.slope_area.builder.Trial        compute_slope(): Computing slope for DEM dem_resampled.tif\n",
      "02:43:29 INFO slopeArea.slope_area.builder.Trial       write_whitebox(): Saving Vector object to C:\\Users\\alex\\Desktop\\slope-area\\data\\processed\\gully 1\\streams.shp\n",
      "02:43:29 INFO slopeArea.slope_area.builder.Trial         get_profiles(): Generating profiles from stream network\n",
      "02:43:29 INFO slopeArea.slope_area.builder.Trial       write_whitebox(): Saving Vector object to C:\\Users\\alex\\Desktop\\slope-area\\data\\processed\\gully 1\\profiles.shp\n",
      "02:43:29 INFO slopeArea.slope_area.builder.Trial              execute(): Reading the profiles profiles.shp\n",
      "02:43:29 INFO slopeArea.slope_area.builder.Trial                  run(): Trial finished with success!\n"
     ]
    }
   ],
   "source": [
    "outlet = outlets[0]\n",
    "out_dir = out_dir / outlet.name\n",
    "trial = Trial(\n",
    "    TrialConfig(\n",
    "        name=outlet.name,\n",
    "        outlet=outlets[0],\n",
    "        resolution=(10, 10),\n",
    "        hydrologic_analysis_config=hydrologic_analysis_config,\n",
    "        dem_provider=StaticVRT(\n",
    "            VRT.from_dem_tiles(\n",
    "                DEMTiles.from_outlet(\n",
    "                    dem_source,\n",
    "                    outlet,\n",
    "                    out_dir,\n",
    "                    hydrologic_analysis_config.outlet_snap_distance,\n",
    "                ),\n",
    "                out_dir / 'dem.vrt',\n",
    "            )\n",
    "        ),\n",
    "        out_dir=out_dir,\n",
    "    )\n",
    ").run()"
   ]
  }
 ],
 "metadata": {
  "kernelspec": {
   "display_name": "slope-area",
   "language": "python",
   "name": "python3"
  },
  "language_info": {
   "codemirror_mode": {
    "name": "ipython",
    "version": 3
   },
   "file_extension": ".py",
   "mimetype": "text/x-python",
   "name": "python",
   "nbconvert_exporter": "python",
   "pygments_lexer": "ipython3",
   "version": "3.12.12"
  }
 },
 "nbformat": 4,
 "nbformat_minor": 5
}
